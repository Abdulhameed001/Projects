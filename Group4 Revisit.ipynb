{
 "cells": [
  {
   "cell_type": "code",
   "execution_count": 7,
   "id": "5e738791-1a63-45cd-af31-2e859f0fa984",
   "metadata": {},
   "outputs": [],
   "source": [
    "\n",
    "import pandas as pd\n",
    "import numpy as np\n",
    "import matplotlib.pyplot as plt\n",
    "import seaborn as sns"
   ]
  },
  {
   "cell_type": "code",
   "execution_count": 9,
   "id": "933adc5d-4d29-4239-8184-d1e438adefd7",
   "metadata": {},
   "outputs": [],
   "source": [
    "#Replace with your actual file path\n",
    "df = pd.read_csv('Merged_IMDBTop400.csv', encoding='ISO-8859-1')"
   ]
  },
  {
   "cell_type": "code",
   "execution_count": 11,
   "id": "c03a9384-bcb0-4301-b03f-d4c88d681c1e",
   "metadata": {},
   "outputs": [
    {
     "name": "stdout",
     "output_type": "stream",
     "text": [
      "       Genre                          Movie Name       Year      Rating  \\\n",
      "0  Adventure                             1. Echo  2023?2024   6.1?(24K)   \n",
      "1  Adventure              2. Society of the Snow       2023   7.9?(64K)   \n",
      "2  Adventure  3. Percy Jackson and the Olympians      2023?   7.4?(18K)   \n",
      "3  Adventure                  4. Game of Thrones  2011?2019  9.2?(2.2M)   \n",
      "4  Adventure                         5. Napoleon       2023   6.5?(95K)   \n",
      "\n",
      "            Votes            Type  \\\n",
      "0     Votes23,699  TV Mini Series   \n",
      "1     Votes64,320             NaN   \n",
      "2     Votes18,020       TV Series   \n",
      "3  Votes2,247,841       TV Series   \n",
      "4     Votes95,398             NaN   \n",
      "\n",
      "                                   Detail/Main Story  Metascore  \n",
      "0  Maya Lopez must face her past, reconnect with ...        NaN  \n",
      "1  The flight of a rugby team crashes on a glacie...       72.0  \n",
      "2  Demigod Percy Jackson leads a quest across Ame...        NaN  \n",
      "3  Nine noble families fight for control over the...        NaN  \n",
      "4  An epic that details the checkered rise and fa...       64.0  \n"
     ]
    }
   ],
   "source": [
    "#preview the dataset\n",
    "print(df.head())"
   ]
  },
  {
   "cell_type": "code",
   "execution_count": 13,
   "id": "6ce1304f-b0c7-4ecb-aa71-53fd70279530",
   "metadata": {},
   "outputs": [
    {
     "name": "stdout",
     "output_type": "stream",
     "text": [
      "<class 'pandas.core.frame.DataFrame'>\n",
      "RangeIndex: 6800 entries, 0 to 6799\n",
      "Data columns (total 8 columns):\n",
      " #   Column             Non-Null Count  Dtype  \n",
      "---  ------             --------------  -----  \n",
      " 0   Genre              6800 non-null   object \n",
      " 1   Movie Name         6800 non-null   object \n",
      " 2   Year               6800 non-null   object \n",
      " 3   Rating             6795 non-null   object \n",
      " 4   Votes              6785 non-null   object \n",
      " 5   Type               2988 non-null   object \n",
      " 6   Detail/Main Story  6789 non-null   object \n",
      " 7   Metascore          3498 non-null   float64\n",
      "dtypes: float64(1), object(7)\n",
      "memory usage: 425.1+ KB\n",
      "None\n"
     ]
    }
   ],
   "source": [
    "#Check for missing value \n",
    "print(df.info())"
   ]
  },
  {
   "cell_type": "code",
   "execution_count": 15,
   "id": "5a3d85e2-1510-40e0-8af3-e0d04f1f46d6",
   "metadata": {},
   "outputs": [
    {
     "name": "stdout",
     "output_type": "stream",
     "text": [
      "Genre                   0\n",
      "Movie Name              0\n",
      "Year                    0\n",
      "Rating                  5\n",
      "Votes                  15\n",
      "Type                 3812\n",
      "Detail/Main Story      11\n",
      "Metascore            3302\n",
      "dtype: int64\n"
     ]
    }
   ],
   "source": [
    "print(df.isnull().sum())"
   ]
  },
  {
   "cell_type": "code",
   "execution_count": 17,
   "id": "073e7f2c-2a65-46df-a34c-5759d8eaab7b",
   "metadata": {},
   "outputs": [],
   "source": [
    "#drop rows which are not need or with missing value\n",
    "df.drop(columns=['Votes', 'Type', 'Detail/Main Story', 'Metascore'], inplace=True)"
   ]
  },
  {
   "cell_type": "code",
   "execution_count": 19,
   "id": "f33085a8-a5b3-44e1-9457-8ec02393f32e",
   "metadata": {},
   "outputs": [
    {
     "data": {
      "text/html": [
       "<div>\n",
       "<style scoped>\n",
       "    .dataframe tbody tr th:only-of-type {\n",
       "        vertical-align: middle;\n",
       "    }\n",
       "\n",
       "    .dataframe tbody tr th {\n",
       "        vertical-align: top;\n",
       "    }\n",
       "\n",
       "    .dataframe thead th {\n",
       "        text-align: right;\n",
       "    }\n",
       "</style>\n",
       "<table border=\"1\" class=\"dataframe\">\n",
       "  <thead>\n",
       "    <tr style=\"text-align: right;\">\n",
       "      <th></th>\n",
       "      <th>Genre</th>\n",
       "      <th>Movie Name</th>\n",
       "      <th>Year</th>\n",
       "      <th>Rating</th>\n",
       "    </tr>\n",
       "  </thead>\n",
       "  <tbody>\n",
       "    <tr>\n",
       "      <th>0</th>\n",
       "      <td>Adventure</td>\n",
       "      <td>1. Echo</td>\n",
       "      <td>2023</td>\n",
       "      <td>6.1?(24K)</td>\n",
       "    </tr>\n",
       "    <tr>\n",
       "      <th>1</th>\n",
       "      <td>Adventure</td>\n",
       "      <td>2. Society of the Snow</td>\n",
       "      <td>2023</td>\n",
       "      <td>7.9?(64K)</td>\n",
       "    </tr>\n",
       "    <tr>\n",
       "      <th>2</th>\n",
       "      <td>Adventure</td>\n",
       "      <td>3. Percy Jackson and the Olympians</td>\n",
       "      <td>2023</td>\n",
       "      <td>7.4?(18K)</td>\n",
       "    </tr>\n",
       "    <tr>\n",
       "      <th>3</th>\n",
       "      <td>Adventure</td>\n",
       "      <td>4. Game of Thrones</td>\n",
       "      <td>2011</td>\n",
       "      <td>9.2?(2.2M)</td>\n",
       "    </tr>\n",
       "    <tr>\n",
       "      <th>4</th>\n",
       "      <td>Adventure</td>\n",
       "      <td>5. Napoleon</td>\n",
       "      <td>2023</td>\n",
       "      <td>6.5?(95K)</td>\n",
       "    </tr>\n",
       "    <tr>\n",
       "      <th>...</th>\n",
       "      <td>...</td>\n",
       "      <td>...</td>\n",
       "      <td>...</td>\n",
       "      <td>...</td>\n",
       "    </tr>\n",
       "    <tr>\n",
       "      <th>6795</th>\n",
       "      <td>War</td>\n",
       "      <td>396. Helen of Troy</td>\n",
       "      <td>2003</td>\n",
       "      <td>6.2?(6.7K)</td>\n",
       "    </tr>\n",
       "    <tr>\n",
       "      <th>6796</th>\n",
       "      <td>War</td>\n",
       "      <td>397. Anne of Green Gables: The Continuing Story</td>\n",
       "      <td>2000</td>\n",
       "      <td>6.8?(5K)</td>\n",
       "    </tr>\n",
       "    <tr>\n",
       "      <th>6797</th>\n",
       "      <td>War</td>\n",
       "      <td>398. Ayla</td>\n",
       "      <td>2017</td>\n",
       "      <td>8.3?(43K)</td>\n",
       "    </tr>\n",
       "    <tr>\n",
       "      <th>6798</th>\n",
       "      <td>War</td>\n",
       "      <td>399. The Lost Battalion</td>\n",
       "      <td>2001</td>\n",
       "      <td>7.0?(8.1K)</td>\n",
       "    </tr>\n",
       "    <tr>\n",
       "      <th>6799</th>\n",
       "      <td>War</td>\n",
       "      <td>400. Stalingrad</td>\n",
       "      <td>2013</td>\n",
       "      <td>5.7?(18K)</td>\n",
       "    </tr>\n",
       "  </tbody>\n",
       "</table>\n",
       "<p>6800 rows × 4 columns</p>\n",
       "</div>"
      ],
      "text/plain": [
       "          Genre                                       Movie Name  Year  \\\n",
       "0     Adventure                                          1. Echo  2023   \n",
       "1     Adventure                           2. Society of the Snow  2023   \n",
       "2     Adventure               3. Percy Jackson and the Olympians  2023   \n",
       "3     Adventure                               4. Game of Thrones  2011   \n",
       "4     Adventure                                      5. Napoleon  2023   \n",
       "...         ...                                              ...   ...   \n",
       "6795        War                               396. Helen of Troy  2003   \n",
       "6796        War  397. Anne of Green Gables: The Continuing Story  2000   \n",
       "6797        War                                        398. Ayla  2017   \n",
       "6798        War                          399. The Lost Battalion  2001   \n",
       "6799        War                                  400. Stalingrad  2013   \n",
       "\n",
       "          Rating  \n",
       "0      6.1?(24K)  \n",
       "1      7.9?(64K)  \n",
       "2      7.4?(18K)  \n",
       "3     9.2?(2.2M)  \n",
       "4      6.5?(95K)  \n",
       "...          ...  \n",
       "6795  6.2?(6.7K)  \n",
       "6796    6.8?(5K)  \n",
       "6797   8.3?(43K)  \n",
       "6798  7.0?(8.1K)  \n",
       "6799   5.7?(18K)  \n",
       "\n",
       "[6800 rows x 4 columns]"
      ]
     },
     "execution_count": 19,
     "metadata": {},
     "output_type": "execute_result"
    }
   ],
   "source": [
    "df['Year']=df['Year'].apply(lambda x: x.split('?')[0])\n",
    "\n",
    "df"
   ]
  },
  {
   "cell_type": "code",
   "execution_count": 21,
   "id": "f430c2ae-7fd7-476c-91f3-540bb02bd312",
   "metadata": {},
   "outputs": [
    {
     "name": "stderr",
     "output_type": "stream",
     "text": [
      "C:\\Users\\HP\\AppData\\Local\\Temp\\ipykernel_7544\\2703715793.py:3: SettingWithCopyWarning: \n",
      "A value is trying to be set on a copy of a slice from a DataFrame.\n",
      "Try using .loc[row_indexer,col_indexer] = value instead\n",
      "\n",
      "See the caveats in the documentation: https://pandas.pydata.org/pandas-docs/stable/user_guide/indexing.html#returning-a-view-versus-a-copy\n",
      "  df['Year']= df['Year'].astype(int)\n"
     ]
    }
   ],
   "source": [
    "df['Year'] = pd.to_numeric(df['Year'], errors='coerce') #Convert Non numeric to NaN\n",
    "df=df.dropna(subset=['Year']) #drop rows with invalid year\n",
    "df['Year']= df['Year'].astype(int)"
   ]
  },
  {
   "cell_type": "code",
   "execution_count": 23,
   "id": "1d47b35b-ff49-4520-9b57-99a184c4f8e0",
   "metadata": {},
   "outputs": [],
   "source": [
    "\n",
    "#Filtering dataset \n",
    "df_filtered=df[(df['Year']>= 2021) & (df['Year']<=2025)]"
   ]
  },
  {
   "cell_type": "code",
   "execution_count": 25,
   "id": "d0920495-fbc8-4c8f-9081-275418d22b7d",
   "metadata": {},
   "outputs": [
    {
     "data": {
      "text/html": [
       "<div>\n",
       "<style scoped>\n",
       "    .dataframe tbody tr th:only-of-type {\n",
       "        vertical-align: middle;\n",
       "    }\n",
       "\n",
       "    .dataframe tbody tr th {\n",
       "        vertical-align: top;\n",
       "    }\n",
       "\n",
       "    .dataframe thead th {\n",
       "        text-align: right;\n",
       "    }\n",
       "</style>\n",
       "<table border=\"1\" class=\"dataframe\">\n",
       "  <thead>\n",
       "    <tr style=\"text-align: right;\">\n",
       "      <th></th>\n",
       "      <th>Genre</th>\n",
       "      <th>Movie Name</th>\n",
       "      <th>Year</th>\n",
       "      <th>Rating</th>\n",
       "    </tr>\n",
       "  </thead>\n",
       "  <tbody>\n",
       "    <tr>\n",
       "      <th>0</th>\n",
       "      <td>Adventure</td>\n",
       "      <td>1. Echo</td>\n",
       "      <td>2023</td>\n",
       "      <td>6.1?(24K)</td>\n",
       "    </tr>\n",
       "    <tr>\n",
       "      <th>1</th>\n",
       "      <td>Adventure</td>\n",
       "      <td>2. Society of the Snow</td>\n",
       "      <td>2023</td>\n",
       "      <td>7.9?(64K)</td>\n",
       "    </tr>\n",
       "    <tr>\n",
       "      <th>2</th>\n",
       "      <td>Adventure</td>\n",
       "      <td>3. Percy Jackson and the Olympians</td>\n",
       "      <td>2023</td>\n",
       "      <td>7.4?(18K)</td>\n",
       "    </tr>\n",
       "    <tr>\n",
       "      <th>3</th>\n",
       "      <td>Adventure</td>\n",
       "      <td>4. Game of Thrones</td>\n",
       "      <td>2011</td>\n",
       "      <td>9.2?(2.2M)</td>\n",
       "    </tr>\n",
       "    <tr>\n",
       "      <th>4</th>\n",
       "      <td>Adventure</td>\n",
       "      <td>5. Napoleon</td>\n",
       "      <td>2023</td>\n",
       "      <td>6.5?(95K)</td>\n",
       "    </tr>\n",
       "    <tr>\n",
       "      <th>...</th>\n",
       "      <td>...</td>\n",
       "      <td>...</td>\n",
       "      <td>...</td>\n",
       "      <td>...</td>\n",
       "    </tr>\n",
       "    <tr>\n",
       "      <th>6795</th>\n",
       "      <td>War</td>\n",
       "      <td>396. Helen of Troy</td>\n",
       "      <td>2003</td>\n",
       "      <td>6.2?(6.7K)</td>\n",
       "    </tr>\n",
       "    <tr>\n",
       "      <th>6796</th>\n",
       "      <td>War</td>\n",
       "      <td>397. Anne of Green Gables: The Continuing Story</td>\n",
       "      <td>2000</td>\n",
       "      <td>6.8?(5K)</td>\n",
       "    </tr>\n",
       "    <tr>\n",
       "      <th>6797</th>\n",
       "      <td>War</td>\n",
       "      <td>398. Ayla</td>\n",
       "      <td>2017</td>\n",
       "      <td>8.3?(43K)</td>\n",
       "    </tr>\n",
       "    <tr>\n",
       "      <th>6798</th>\n",
       "      <td>War</td>\n",
       "      <td>399. The Lost Battalion</td>\n",
       "      <td>2001</td>\n",
       "      <td>7.0?(8.1K)</td>\n",
       "    </tr>\n",
       "    <tr>\n",
       "      <th>6799</th>\n",
       "      <td>War</td>\n",
       "      <td>400. Stalingrad</td>\n",
       "      <td>2013</td>\n",
       "      <td>5.7?(18K)</td>\n",
       "    </tr>\n",
       "  </tbody>\n",
       "</table>\n",
       "<p>6798 rows × 4 columns</p>\n",
       "</div>"
      ],
      "text/plain": [
       "          Genre                                       Movie Name  Year  \\\n",
       "0     Adventure                                          1. Echo  2023   \n",
       "1     Adventure                           2. Society of the Snow  2023   \n",
       "2     Adventure               3. Percy Jackson and the Olympians  2023   \n",
       "3     Adventure                               4. Game of Thrones  2011   \n",
       "4     Adventure                                      5. Napoleon  2023   \n",
       "...         ...                                              ...   ...   \n",
       "6795        War                               396. Helen of Troy  2003   \n",
       "6796        War  397. Anne of Green Gables: The Continuing Story  2000   \n",
       "6797        War                                        398. Ayla  2017   \n",
       "6798        War                          399. The Lost Battalion  2001   \n",
       "6799        War                                  400. Stalingrad  2013   \n",
       "\n",
       "          Rating  \n",
       "0      6.1?(24K)  \n",
       "1      7.9?(64K)  \n",
       "2      7.4?(18K)  \n",
       "3     9.2?(2.2M)  \n",
       "4      6.5?(95K)  \n",
       "...          ...  \n",
       "6795  6.2?(6.7K)  \n",
       "6796    6.8?(5K)  \n",
       "6797   8.3?(43K)  \n",
       "6798  7.0?(8.1K)  \n",
       "6799   5.7?(18K)  \n",
       "\n",
       "[6798 rows x 4 columns]"
      ]
     },
     "execution_count": 25,
     "metadata": {},
     "output_type": "execute_result"
    }
   ],
   "source": [
    "df"
   ]
  },
  {
   "cell_type": "code",
   "execution_count": 27,
   "id": "635b6670-bde7-45e0-b04a-256e40b87d96",
   "metadata": {},
   "outputs": [
    {
     "name": "stdout",
     "output_type": "stream",
     "text": [
      "          Genre                                       Movie Name  Year  \\\n",
      "0     Adventure                                          1. Echo  2023   \n",
      "1     Adventure                           2. Society of the Snow  2023   \n",
      "2     Adventure               3. Percy Jackson and the Olympians  2023   \n",
      "3     Adventure                               4. Game of Thrones  2011   \n",
      "4     Adventure                                      5. Napoleon  2023   \n",
      "...         ...                                              ...   ...   \n",
      "6795        War                               396. Helen of Troy  2003   \n",
      "6796        War  397. Anne of Green Gables: The Continuing Story  2000   \n",
      "6797        War                                        398. Ayla  2017   \n",
      "6798        War                          399. The Lost Battalion  2001   \n",
      "6799        War                                  400. Stalingrad  2013   \n",
      "\n",
      "          Rating  \n",
      "0      6.1?(24K)  \n",
      "1      7.9?(64K)  \n",
      "2      7.4?(18K)  \n",
      "3     9.2?(2.2M)  \n",
      "4      6.5?(95K)  \n",
      "...          ...  \n",
      "6795  6.2?(6.7K)  \n",
      "6796    6.8?(5K)  \n",
      "6797   8.3?(43K)  \n",
      "6798  7.0?(8.1K)  \n",
      "6799   5.7?(18K)  \n",
      "\n",
      "[6798 rows x 4 columns]\n"
     ]
    }
   ],
   "source": [
    "print(df)"
   ]
  },
  {
   "cell_type": "code",
   "execution_count": 29,
   "id": "5cc315d2-93d9-4d08-b75f-68154a9aed87",
   "metadata": {},
   "outputs": [
    {
     "name": "stdout",
     "output_type": "stream",
     "text": [
      "<class 'pandas.core.frame.DataFrame'>\n",
      "Index: 6798 entries, 0 to 6799\n",
      "Data columns (total 4 columns):\n",
      " #   Column      Non-Null Count  Dtype \n",
      "---  ------      --------------  ----- \n",
      " 0   Genre       6798 non-null   object\n",
      " 1   Movie Name  6798 non-null   object\n",
      " 2   Year        6798 non-null   int32 \n",
      " 3   Rating      6793 non-null   object\n",
      "dtypes: int32(1), object(3)\n",
      "memory usage: 239.0+ KB\n"
     ]
    }
   ],
   "source": [
    "df.info()"
   ]
  },
  {
   "cell_type": "code",
   "execution_count": 31,
   "id": "4270047c-e0ec-4a48-8aae-e4596eaefa0f",
   "metadata": {},
   "outputs": [
    {
     "ename": "KeyError",
     "evalue": "\"['Votes', 'Type', 'Detail/Main Story', 'Metascore'] not found in axis\"",
     "output_type": "error",
     "traceback": [
      "\u001b[1;31m---------------------------------------------------------------------------\u001b[0m",
      "\u001b[1;31mKeyError\u001b[0m                                  Traceback (most recent call last)",
      "Cell \u001b[1;32mIn[31], line 1\u001b[0m\n\u001b[1;32m----> 1\u001b[0m df\u001b[38;5;241m.\u001b[39mdrop(columns\u001b[38;5;241m=\u001b[39m[\u001b[38;5;124m'\u001b[39m\u001b[38;5;124mVotes\u001b[39m\u001b[38;5;124m'\u001b[39m, \u001b[38;5;124m'\u001b[39m\u001b[38;5;124mType\u001b[39m\u001b[38;5;124m'\u001b[39m, \u001b[38;5;124m'\u001b[39m\u001b[38;5;124mDetail/Main Story\u001b[39m\u001b[38;5;124m'\u001b[39m, \u001b[38;5;124m'\u001b[39m\u001b[38;5;124mMetascore\u001b[39m\u001b[38;5;124m'\u001b[39m], inplace\u001b[38;5;241m=\u001b[39m\u001b[38;5;28;01mTrue\u001b[39;00m)\n",
      "File \u001b[1;32m~\\anaconda3\\Lib\\site-packages\\pandas\\core\\frame.py:5581\u001b[0m, in \u001b[0;36mDataFrame.drop\u001b[1;34m(self, labels, axis, index, columns, level, inplace, errors)\u001b[0m\n\u001b[0;32m   5433\u001b[0m \u001b[38;5;28;01mdef\u001b[39;00m \u001b[38;5;21mdrop\u001b[39m(\n\u001b[0;32m   5434\u001b[0m     \u001b[38;5;28mself\u001b[39m,\n\u001b[0;32m   5435\u001b[0m     labels: IndexLabel \u001b[38;5;241m|\u001b[39m \u001b[38;5;28;01mNone\u001b[39;00m \u001b[38;5;241m=\u001b[39m \u001b[38;5;28;01mNone\u001b[39;00m,\n\u001b[1;32m   (...)\u001b[0m\n\u001b[0;32m   5442\u001b[0m     errors: IgnoreRaise \u001b[38;5;241m=\u001b[39m \u001b[38;5;124m\"\u001b[39m\u001b[38;5;124mraise\u001b[39m\u001b[38;5;124m\"\u001b[39m,\n\u001b[0;32m   5443\u001b[0m ) \u001b[38;5;241m-\u001b[39m\u001b[38;5;241m>\u001b[39m DataFrame \u001b[38;5;241m|\u001b[39m \u001b[38;5;28;01mNone\u001b[39;00m:\n\u001b[0;32m   5444\u001b[0m \u001b[38;5;250m    \u001b[39m\u001b[38;5;124;03m\"\"\"\u001b[39;00m\n\u001b[0;32m   5445\u001b[0m \u001b[38;5;124;03m    Drop specified labels from rows or columns.\u001b[39;00m\n\u001b[0;32m   5446\u001b[0m \n\u001b[1;32m   (...)\u001b[0m\n\u001b[0;32m   5579\u001b[0m \u001b[38;5;124;03m            weight  1.0     0.8\u001b[39;00m\n\u001b[0;32m   5580\u001b[0m \u001b[38;5;124;03m    \"\"\"\u001b[39;00m\n\u001b[1;32m-> 5581\u001b[0m     \u001b[38;5;28;01mreturn\u001b[39;00m \u001b[38;5;28msuper\u001b[39m()\u001b[38;5;241m.\u001b[39mdrop(\n\u001b[0;32m   5582\u001b[0m         labels\u001b[38;5;241m=\u001b[39mlabels,\n\u001b[0;32m   5583\u001b[0m         axis\u001b[38;5;241m=\u001b[39maxis,\n\u001b[0;32m   5584\u001b[0m         index\u001b[38;5;241m=\u001b[39mindex,\n\u001b[0;32m   5585\u001b[0m         columns\u001b[38;5;241m=\u001b[39mcolumns,\n\u001b[0;32m   5586\u001b[0m         level\u001b[38;5;241m=\u001b[39mlevel,\n\u001b[0;32m   5587\u001b[0m         inplace\u001b[38;5;241m=\u001b[39minplace,\n\u001b[0;32m   5588\u001b[0m         errors\u001b[38;5;241m=\u001b[39merrors,\n\u001b[0;32m   5589\u001b[0m     )\n",
      "File \u001b[1;32m~\\anaconda3\\Lib\\site-packages\\pandas\\core\\generic.py:4788\u001b[0m, in \u001b[0;36mNDFrame.drop\u001b[1;34m(self, labels, axis, index, columns, level, inplace, errors)\u001b[0m\n\u001b[0;32m   4786\u001b[0m \u001b[38;5;28;01mfor\u001b[39;00m axis, labels \u001b[38;5;129;01min\u001b[39;00m axes\u001b[38;5;241m.\u001b[39mitems():\n\u001b[0;32m   4787\u001b[0m     \u001b[38;5;28;01mif\u001b[39;00m labels \u001b[38;5;129;01mis\u001b[39;00m \u001b[38;5;129;01mnot\u001b[39;00m \u001b[38;5;28;01mNone\u001b[39;00m:\n\u001b[1;32m-> 4788\u001b[0m         obj \u001b[38;5;241m=\u001b[39m obj\u001b[38;5;241m.\u001b[39m_drop_axis(labels, axis, level\u001b[38;5;241m=\u001b[39mlevel, errors\u001b[38;5;241m=\u001b[39merrors)\n\u001b[0;32m   4790\u001b[0m \u001b[38;5;28;01mif\u001b[39;00m inplace:\n\u001b[0;32m   4791\u001b[0m     \u001b[38;5;28mself\u001b[39m\u001b[38;5;241m.\u001b[39m_update_inplace(obj)\n",
      "File \u001b[1;32m~\\anaconda3\\Lib\\site-packages\\pandas\\core\\generic.py:4830\u001b[0m, in \u001b[0;36mNDFrame._drop_axis\u001b[1;34m(self, labels, axis, level, errors, only_slice)\u001b[0m\n\u001b[0;32m   4828\u001b[0m         new_axis \u001b[38;5;241m=\u001b[39m axis\u001b[38;5;241m.\u001b[39mdrop(labels, level\u001b[38;5;241m=\u001b[39mlevel, errors\u001b[38;5;241m=\u001b[39merrors)\n\u001b[0;32m   4829\u001b[0m     \u001b[38;5;28;01melse\u001b[39;00m:\n\u001b[1;32m-> 4830\u001b[0m         new_axis \u001b[38;5;241m=\u001b[39m axis\u001b[38;5;241m.\u001b[39mdrop(labels, errors\u001b[38;5;241m=\u001b[39merrors)\n\u001b[0;32m   4831\u001b[0m     indexer \u001b[38;5;241m=\u001b[39m axis\u001b[38;5;241m.\u001b[39mget_indexer(new_axis)\n\u001b[0;32m   4833\u001b[0m \u001b[38;5;66;03m# Case for non-unique axis\u001b[39;00m\n\u001b[0;32m   4834\u001b[0m \u001b[38;5;28;01melse\u001b[39;00m:\n",
      "File \u001b[1;32m~\\anaconda3\\Lib\\site-packages\\pandas\\core\\indexes\\base.py:7070\u001b[0m, in \u001b[0;36mIndex.drop\u001b[1;34m(self, labels, errors)\u001b[0m\n\u001b[0;32m   7068\u001b[0m \u001b[38;5;28;01mif\u001b[39;00m mask\u001b[38;5;241m.\u001b[39many():\n\u001b[0;32m   7069\u001b[0m     \u001b[38;5;28;01mif\u001b[39;00m errors \u001b[38;5;241m!=\u001b[39m \u001b[38;5;124m\"\u001b[39m\u001b[38;5;124mignore\u001b[39m\u001b[38;5;124m\"\u001b[39m:\n\u001b[1;32m-> 7070\u001b[0m         \u001b[38;5;28;01mraise\u001b[39;00m \u001b[38;5;167;01mKeyError\u001b[39;00m(\u001b[38;5;124mf\u001b[39m\u001b[38;5;124m\"\u001b[39m\u001b[38;5;132;01m{\u001b[39;00mlabels[mask]\u001b[38;5;241m.\u001b[39mtolist()\u001b[38;5;132;01m}\u001b[39;00m\u001b[38;5;124m not found in axis\u001b[39m\u001b[38;5;124m\"\u001b[39m)\n\u001b[0;32m   7071\u001b[0m     indexer \u001b[38;5;241m=\u001b[39m indexer[\u001b[38;5;241m~\u001b[39mmask]\n\u001b[0;32m   7072\u001b[0m \u001b[38;5;28;01mreturn\u001b[39;00m \u001b[38;5;28mself\u001b[39m\u001b[38;5;241m.\u001b[39mdelete(indexer)\n",
      "\u001b[1;31mKeyError\u001b[0m: \"['Votes', 'Type', 'Detail/Main Story', 'Metascore'] not found in axis\""
     ]
    }
   ],
   "source": [
    "df.drop(columns=['Votes', 'Type', 'Detail/Main Story', 'Metascore'], inplace=True)"
   ]
  },
  {
   "cell_type": "code",
   "execution_count": null,
   "id": "369721f0-b41d-4693-8755-a8bf10ed092c",
   "metadata": {},
   "outputs": [],
   "source": [
    "import matplotlib.pyplot as plt\n",
    "import seaborn as sns"
   ]
  },
  {
   "cell_type": "code",
   "execution_count": null,
   "id": "dc5048ac-bd1c-4e34-808e-01978a441a7a",
   "metadata": {},
   "outputs": [],
   "source": []
  },
  {
   "cell_type": "raw",
   "id": "f4dc1745-a9b4-4b47-8b44-a34d5c803489",
   "metadata": {},
   "source": []
  },
  {
   "cell_type": "code",
   "execution_count": null,
   "id": "1891a965-6c38-49b6-8ee7-ca53193f771d",
   "metadata": {},
   "outputs": [],
   "source": [
    "#Movie Per Year \n",
    "\n",
    "plt.figure(figsize=(8, 4))\n",
    "sns.countplot(data=df_filtered, x='Year')\n",
    "plt.title('Number of Movies Released per Year(2021-2025)')\n",
    "plt.show()"
   ]
  },
  {
   "cell_type": "code",
   "execution_count": null,
   "id": "defeab4d-fc54-4e0a-83fb-79bd76443782",
   "metadata": {
    "scrolled": true
   },
   "outputs": [],
   "source": [
    "#Top Genres \n",
    "from collections import Counter\n",
    "from collections import Counter \n",
    "#Split and count genres\n",
    "all_genres = df_filtered['Genre'].str.split(', ').explode()\n",
    "genre_counts = all_genres.value_counts()\n",
    "\n",
    "#Plot Top Genres\n",
    "genre_counts.plot(kind='bar', figsize=(10, 5), title='Genre Frequency (2021-2025)')\n",
    "plt.ylabel('Number of Movies')\n",
    "plt.show()"
   ]
  },
  {
   "cell_type": "raw",
   "id": "5cb46846-c54d-4ece-b338-bdead28ba47b",
   "metadata": {},
   "source": [
    "print(df_filtered[['Year', 'Rating']].head(10))\n",
    "print(df_filtered.dtypes)"
   ]
  },
  {
   "cell_type": "code",
   "execution_count": null,
   "id": "bb1cca48-a785-4e3e-9075-580679f0d548",
   "metadata": {},
   "outputs": [],
   "source": [
    "#Additional Cleaning \n",
    "\n",
    "df_filtered['Year'] = pd.to_numeric(df_filtered['Year'], errors='coerce')\n",
    "df_filtered['Rating'] = pd.to_numeric(df_filtered['Rating'], errors='coerce')\n",
    "\n",
    "#Drop rows missing value\n",
    "df_cleaned= df.dropna(subset=['Year', 'Rating'])\n",
    "df_filtered = df_cleaned[(df_cleaned['Year'] >= 2020) & (df_cleaned['Year'] <=2025)]"
   ]
  },
  {
   "cell_type": "code",
   "execution_count": 37,
   "id": "1f2fb87f-2a00-4670-b365-60f14b97d648",
   "metadata": {},
   "outputs": [
    {
     "name": "stderr",
     "output_type": "stream",
     "text": [
      "C:\\Users\\HP\\AppData\\Local\\Temp\\ipykernel_7544\\637795977.py:5: SettingWithCopyWarning: \n",
      "A value is trying to be set on a copy of a slice from a DataFrame.\n",
      "Try using .loc[row_indexer,col_indexer] = value instead\n",
      "\n",
      "See the caveats in the documentation: https://pandas.pydata.org/pandas-docs/stable/user_guide/indexing.html#returning-a-view-versus-a-copy\n",
      "  df_filtered['Rating'] = pd.to_numeric(df_filtered['Rating'], errors='coerce')\n"
     ]
    },
    {
     "data": {
      "image/png": "[encoded data removed]",
      "text/plain": [
       "<Figure size 800x400 with 1 Axes>"
      ]
     },
     "metadata": {},
     "output_type": "display_data"
    }
   ],
   "source": [
    "#Average Rating by Year \n",
    "import matplotlib.pyplot as plt\n",
    "\n",
    "#converting rating column to numeric\n",
    "df_filtered['Rating'] = pd.to_numeric(df_filtered['Rating'], errors='coerce')\n",
    "\n",
    "#Drop rows with invalid(Nan)\n",
    "df_filtered = df_filtered.dropna(subset=['Rating'])\n",
    "\n",
    "\n",
    "avg_rating = df_filtered.groupby('Year')['Rating'].mean()\n",
    "\n",
    "#Line chart \n",
    "plt.figure(figsize=(8, 4))\n",
    "plt.plot(avg_rating.index, \n",
    "avg_rating.values, marker='o', \n",
    "linestyle='-', color='green')\n",
    "plt.title(\"Average Movies Rating by Year(2020-2025)\")\n",
    "plt.xlabel(\"Year\")\n",
    "plt.ylabel('Average Rating')\n",
    "plt.ylim(0, 10)\n",
    "plt.grid(True)\n",
    "plt.tight_layout()\n",
    "plt.savefig(\"avg_rating_trend.png\")\n",
    "plt.show()"
   ]
  },
  {
   "cell_type": "code",
   "execution_count": null,
   "id": "9b50f1df-23e3-451f-83cc-242a0752ecf4",
   "metadata": {},
   "outputs": [],
   "source": []
  },
  {
   "cell_type": "code",
   "execution_count": null,
   "id": "78d78728-a92b-41ea-857e-70b29602b7e8",
   "metadata": {},
   "outputs": [],
   "source": []
  },
  {
   "cell_type": "code",
   "execution_count": null,
   "id": "cee2a570-0e6b-4dd5-ba52-2316e0668837",
   "metadata": {},
   "outputs": [],
   "source": []
  }
 ],
 "metadata": {
  "kernelspec": {
   "display_name": "Python [conda env:base] *",
   "language": "python",
   "name": "conda-base-py"
  },
  "language_info": {
   "codemirror_mode": {
    "name": "ipython",
    "version": 3
   },
   "file_extension": ".py",
   "mimetype": "text/x-python",
   "name": "python",
   "nbconvert_exporter": "python",
   "pygments_lexer": "ipython3",
   "version": "3.12.7"
  }
 },
 "nbformat": 4,
 "nbformat_minor": 5
}
